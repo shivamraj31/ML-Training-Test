{
 "cells": [
  {
   "cell_type": "markdown",
   "id": "954ae11d-c1b2-48e1-88f4-daa76f9fe549",
   "metadata": {},
   "source": [
    "# 1)\tWrite a program to count the sub_string from main string\n",
    "Example:- A B C D C D C\n",
    "Sub_string= C D C result =2"
   ]
  },
  {
   "cell_type": "code",
   "execution_count": 10,
   "id": "39b72d35-42d4-44f7-98b7-7cfb3c4ae455",
   "metadata": {},
   "outputs": [
    {
     "name": "stdout",
     "output_type": "stream",
     "text": [
      "Result: 2\n"
     ]
    }
   ],
   "source": [
    "def count_substring(main_string, sub_string):\n",
    "    count = 0\n",
    "    sub_len = len(sub_string)\n",
    "    for i in range(len(main_string) - sub_len + 1):\n",
    "        if main_string[i:i + sub_len] == sub_string:\n",
    "            count += 1\n",
    "    return count\n",
    "\n",
    "main_string = \"A B C D C D C\"\n",
    "sub_string = \"C D C\"\n",
    "result = count_substring(main_string, sub_string)\n",
    "print(f\"Result: {result}\")\n"
   ]
  },
  {
   "cell_type": "markdown",
   "id": "d96280fb-814b-405c-8d8c-014b21e338e1",
   "metadata": {},
   "source": [
    "# 2)\tWrite a program to take 4 number and store in list \r\n",
    "[2,4,6,8] find the factorial of the each number of the list and store the value  in the list \r\n",
    "\r\n"
   ]
  },
  {
   "cell_type": "code",
   "execution_count": 11,
   "id": "1a9478da-7e3f-41a5-ab6b-f44dbbb4956e",
   "metadata": {},
   "outputs": [
    {
     "name": "stdout",
     "output_type": "stream",
     "text": [
      "Factorials: [2, 24, 720, 40320]\n"
     ]
    }
   ],
   "source": [
    "#Question 2\n",
    "import math\n",
    "\n",
    "numbers = [2, 4, 6, 8]\n",
    "factorials = [math.factorial(num) for num in numbers]\n",
    "print(f\"Factorials: {factorials}\")\n"
   ]
  },
  {
   "cell_type": "markdown",
   "id": "d15084fd-42dc-470c-bca1-5820fcc1ee6a",
   "metadata": {},
   "source": [
    "# 3)\tCreate a strong password combining words, numbers and characters. \r\n",
    "(* )Keep creating the new password until you find one you like  \r\n"
   ]
  },
  {
   "cell_type": "code",
   "execution_count": 17,
   "id": "77024a1a-9a63-4184-86ee-0449fc44e0b6",
   "metadata": {},
   "outputs": [
    {
     "name": "stdin",
     "output_type": "stream",
     "text": [
      "Enter the desired password length:  8\n"
     ]
    },
    {
     "name": "stdout",
     "output_type": "stream",
     "text": [
      "Generated Password: +rp9alep\n"
     ]
    },
    {
     "name": "stdin",
     "output_type": "stream",
     "text": [
      "Do you like this password? (yes/no):  yes\n"
     ]
    }
   ],
   "source": [
    "#Question 3\n",
    "import random\n",
    "import string\n",
    "\n",
    "def generate_strong_password(length):\n",
    "    words = [\"apple\", \"banana\", \"cherry\", \"date\", \"elderberry\", \"fig\", \"grape\"]\n",
    "    numbers = string.digits\n",
    "    special_characters = string.punctuation\n",
    "\n",
    "    password = random.choice(words) + random.choice(numbers) + random.choice(special_characters)\n",
    "\n",
    "    all_characters = ''.join(words) + numbers + special_characters\n",
    "    while len(password) < length:\n",
    "        password += random.choice(all_characters)\n",
    "    password_list = list(password)\n",
    "    random.shuffle(password_list)\n",
    "    return ''.join(password_list)\n",
    "\n",
    "def main():\n",
    "    while True:\n",
    "        password_length = int(input(\"Enter the desired password length: \"))\n",
    "        generated_password = generate_strong_password(password_length)\n",
    "        print(\"Generated Password:\", generated_password)\n",
    "        \n",
    "       \n",
    "        user_response = input(\"Do you like this password? (yes/no): \").strip().lower()\n",
    "        if user_response == 'yes':\n",
    "            break\n",
    "\n",
    "if __name__ == \"__main__\":\n",
    "    main()\n"
   ]
  },
  {
   "cell_type": "markdown",
   "id": "1e2d0f4a-d5ab-4873-8312-876eb6a3e31e",
   "metadata": {},
   "source": [
    "# 4) Checking of the vowels inside the string"
   ]
  },
  {
   "cell_type": "code",
   "execution_count": 14,
   "id": "a63c90e9-656e-413f-aabb-63cb24ab3677",
   "metadata": {},
   "outputs": [
    {
     "name": "stdout",
     "output_type": "stream",
     "text": [
      "Vowels in the string: {'i', 'o', 'e', 'a'}\n"
     ]
    }
   ],
   "source": [
    "#Question 4\n",
    "def check_vowels(string):\n",
    "    vowels = 'aeiouAEIOU'\n",
    "    found_vowels = set(char for char in string if char in vowels)\n",
    "    return found_vowels\n",
    "\n",
    "string = \"Hello Shivam\"\n",
    "vowels_found = check_vowels(string)\n",
    "print(f\"Vowels in the string: {vowels_found}\")\n"
   ]
  },
  {
   "cell_type": "markdown",
   "id": "77cec00f-f257-4e80-bd39-2a0d443ea6a9",
   "metadata": {},
   "source": [
    "# 5)\tA python program to access each element of a string in forward and reverse orders using while loop \r\n",
    "\r\n"
   ]
  },
  {
   "cell_type": "code",
   "execution_count": 5,
   "id": "1d66a0f3-3b48-48cc-bd38-fe6a2050acbf",
   "metadata": {},
   "outputs": [
    {
     "name": "stdout",
     "output_type": "stream",
     "text": [
      "Forward:\n",
      "Hello\n",
      "Reverse:\n",
      "olleH\n"
     ]
    }
   ],
   "source": [
    "#Question 5\n",
    "def forward_and_reverse(string):\n",
    "    i = 0\n",
    "    print(\"Forward:\")\n",
    "    while i < len(string):\n",
    "        print(string[i], end='')\n",
    "        i += 1\n",
    "    print()\n",
    "\n",
    "    i = len(string) - 1\n",
    "    print(\"Reverse:\")\n",
    "    while i >= 0:\n",
    "        print(string[i], end='')\n",
    "        i -= 1\n",
    "    print()\n",
    "\n",
    "string = \"Hello\"\n",
    "forward_and_reverse(string)\n"
   ]
  },
  {
   "cell_type": "markdown",
   "id": "7f310adf-26ac-454e-8872-60c668c4dd9e",
   "metadata": {},
   "source": [
    "# \r\n",
    "6)\tWrite a python program to know whether a sub- string exists in main string \r\n"
   ]
  },
  {
   "cell_type": "code",
   "execution_count": 6,
   "id": "bd6c139c-8592-49ce-a086-e1140f41bb17",
   "metadata": {},
   "outputs": [
    {
     "name": "stdout",
     "output_type": "stream",
     "text": [
      "Substring exists: True\n"
     ]
    }
   ],
   "source": [
    "#Question 6\n",
    "def substring_exists(main_string, sub_string):\n",
    "    return sub_string in main_string\n",
    "\n",
    "main_string = \"Hello, World\"\n",
    "sub_string = \"World\"\n",
    "exists = substring_exists(main_string, sub_string)\n",
    "print(f\"Substring exists: {exists}\")\n"
   ]
  },
  {
   "cell_type": "markdown",
   "id": "ce443a08-203a-4754-906c-e720852ddcfa",
   "metadata": {},
   "source": [
    "# 7)\tA python program to find the first occurrences of sub string in a given main string  \r\n",
    "\r\n"
   ]
  },
  {
   "cell_type": "code",
   "execution_count": 7,
   "id": "c3a46a9a-f9f4-4ea1-83b2-a59f6d67c6f1",
   "metadata": {},
   "outputs": [
    {
     "name": "stdout",
     "output_type": "stream",
     "text": [
      "First occurrence index: 7\n"
     ]
    }
   ],
   "source": [
    "#Question 7\n",
    "def first_occurrence(main_string, sub_string):\n",
    "    index = main_string.find(sub_string)\n",
    "    return index\n",
    "\n",
    "# Example usage\n",
    "main_string = \"Hello, World!\"\n",
    "sub_string = \"World\"\n",
    "index = first_occurrence(main_string, sub_string)\n",
    "print(f\"First occurrence index: {index}\")\n"
   ]
  },
  {
   "cell_type": "markdown",
   "id": "3e4c17dd-51ed-42e3-bceb-74e017dce082",
   "metadata": {},
   "source": [
    "# 8)\tA python program to insert a sub string in main string in a particular position\r\n",
    "\r\n",
    "Example:- enter a string :- it is summer\r\n",
    "Enter sub_string;- hot\r\n",
    "Enter position no:- 7\r\n",
    "Result :- It is hotsummer re\r\n"
   ]
  },
  {
   "cell_type": "code",
   "execution_count": 9,
   "id": "bc4d11cf-09c8-43a3-b3f5-9dfe7d215fce",
   "metadata": {},
   "outputs": [
    {
     "name": "stdout",
     "output_type": "stream",
     "text": [
      "Result: It is hotsummer\n"
     ]
    }
   ],
   "source": [
    "#Question 8\n",
    "def insert_substring(main_string, sub_string, position):\n",
    "    return main_string[:position] + sub_string + main_string[position:]\n",
    "\n",
    "main_string = \"It is summer\"\n",
    "sub_string = \"hot\"\n",
    "position = 6\n",
    "result = insert_substring(main_string, sub_string, position)\n",
    "print(f\"Result: {result}\")\n"
   ]
  }
 ],
 "metadata": {
  "kernelspec": {
   "display_name": "Python 3 (ipykernel)",
   "language": "python",
   "name": "python3"
  },
  "language_info": {
   "codemirror_mode": {
    "name": "ipython",
    "version": 3
   },
   "file_extension": ".py",
   "mimetype": "text/x-python",
   "name": "python",
   "nbconvert_exporter": "python",
   "pygments_lexer": "ipython3",
   "version": "3.11.7"
  }
 },
 "nbformat": 4,
 "nbformat_minor": 5
}
